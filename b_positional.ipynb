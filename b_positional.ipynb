{
 "cells": [
  {
   "cell_type": "code",
   "execution_count": 1,
   "id": "7561ee22-69a4-4356-a5b2-e5b5c28b16d0",
   "metadata": {},
   "outputs": [],
   "source": [
    "from sentence_transformers import SentenceTransformer\n",
    "model = SentenceTransformer('all-mpnet-base-v2')"
   ]
  },
  {
   "cell_type": "code",
   "execution_count": 2,
   "id": "c40248a1-8497-4ef9-bba2-37dc7a3cf23b",
   "metadata": {},
   "outputs": [],
   "source": [
    "text = \"In 2021, doctors prevented the spread of the virus by vaccinating with Pfizer.\""
   ]
  },
  {
   "cell_type": "code",
   "execution_count": 3,
   "id": "f9887004-d634-43e0-988d-f80ad1c75c52",
   "metadata": {},
   "outputs": [],
   "source": [
    "dimension_list = [\"mainstream\", \"conspiracy\", \"positive\", \"negative\"]"
   ]
  },
  {
   "cell_type": "code",
   "execution_count": 4,
   "id": "52a3b648-ce0d-4adc-a715-8e520785d446",
   "metadata": {},
   "outputs": [
    {
     "data": {
      "text/plain": [
       "[tensor([[-0.0406,  0.0765, -0.0085,  ...,  0.0191,  0.0851, -0.0820],\n",
       "         [ 0.0099,  0.1918, -0.0870,  ..., -0.0422,  0.1411, -0.0616],\n",
       "         [ 0.0872,  0.0083, -0.0668,  ..., -0.0054,  0.2102, -0.0625],\n",
       "         ...,\n",
       "         [ 0.0727,  0.2039,  0.0037,  ...,  0.0149,  0.0846, -0.0729],\n",
       "         [-0.0897,  0.0383,  0.0061,  ...,  0.0129, -0.0077, -0.0649],\n",
       "         [-0.0907,  0.0472, -0.0188,  ..., -0.0140,  0.0412, -0.0498]]),\n",
       " tensor([[ 0.0050, -0.3508,  0.0392,  ...,  0.1221, -0.1002,  0.0341],\n",
       "         [ 0.0058,  0.0619,  0.0457,  ...,  0.1278, -0.0495,  0.0365],\n",
       "         [ 0.0239, -0.2290,  0.0269,  ...,  0.1156, -0.2044, -0.0090]]),\n",
       " tensor([[-0.0149, -0.1042, -0.0427,  ...,  0.1507, -0.1317, -0.0041],\n",
       "         [-0.0282,  0.3626, -0.0480,  ...,  0.3031, -0.1411,  0.1132],\n",
       "         [ 0.0034, -0.1029,  0.0107,  ...,  0.1311, -0.1360,  0.0146]]),\n",
       " tensor([[-0.0025, -0.2127, -0.0159,  ..., -0.0857,  0.0308, -0.0293],\n",
       "         [ 0.0024,  0.2938, -0.0739,  ...,  0.0435, -0.1672, -0.0475],\n",
       "         [ 0.0319, -0.1639,  0.0013,  ..., -0.0611, -0.0020, -0.0324]]),\n",
       " tensor([[ 0.0802, -0.1920,  0.0011,  ...,  0.0734,  0.0202,  0.1310],\n",
       "         [-0.0224,  0.5194, -0.0683,  ...,  0.1857, -0.0948,  0.0621],\n",
       "         [ 0.0916, -0.1901, -0.0234,  ...,  0.1241, -0.0692,  0.0691]])]"
      ]
     },
     "execution_count": 4,
     "metadata": {},
     "output_type": "execute_result"
    }
   ],
   "source": [
    "res = model.encode([text] + dimension_list, output_value=\"token_embeddings\")\n",
    "res"
   ]
  },
  {
   "cell_type": "code",
   "execution_count": 5,
   "id": "3d403a36-e56d-479a-b54f-6e23905ff15d",
   "metadata": {},
   "outputs": [
    {
     "data": {
      "text/plain": [
       "(22,\n",
       " 20,\n",
       " ['in',\n",
       "  '2021',\n",
       "  ',',\n",
       "  'doctors',\n",
       "  'prevented',\n",
       "  'the',\n",
       "  'spread',\n",
       "  'of',\n",
       "  'the',\n",
       "  'virus',\n",
       "  'by',\n",
       "  'va',\n",
       "  '##cci',\n",
       "  '##nat',\n",
       "  '##ing',\n",
       "  'with',\n",
       "  'p',\n",
       "  '##fi',\n",
       "  '##zer',\n",
       "  '.'])"
      ]
     },
     "execution_count": 5,
     "metadata": {},
     "output_type": "execute_result"
    }
   ],
   "source": [
    "token_ids = model.tokenizer.encode(text)\n",
    "token_words = model.tokenizer.convert_ids_to_tokens(token_ids[1:-1])\n",
    "len(token_ids), len(token_words), token_words"
   ]
  },
  {
   "cell_type": "code",
   "execution_count": 6,
   "id": "748e7925-de9b-4cf0-91da-2c7b0d31c367",
   "metadata": {},
   "outputs": [
    {
     "data": {
      "text/plain": [
       "{'input_ids': tensor([[    0,  2003, 25686,  1014,  7439,  8733,  2000,  3663,  2001,  2000,\n",
       "           7869,  2015, 12440, 14697, 19837,  2079,  2011,  1056,  8877,  6294,\n",
       "           1016,     2]]),\n",
       " 'attention_mask': tensor([[1, 1, 1, 1, 1, 1, 1, 1, 1, 1, 1, 1, 1, 1, 1, 1, 1, 1, 1, 1, 1, 1]])}"
      ]
     },
     "execution_count": 6,
     "metadata": {},
     "output_type": "execute_result"
    }
   ],
   "source": [
    "model.tokenize([text])"
   ]
  },
  {
   "cell_type": "code",
   "execution_count": 7,
   "id": "9be7d8e8-8ef2-4bad-8c5f-2501dcd0a373",
   "metadata": {},
   "outputs": [
    {
     "data": {
      "text/plain": [
       "[20, 1, 1, 1, 1]"
      ]
     },
     "execution_count": 7,
     "metadata": {},
     "output_type": "execute_result"
    }
   ],
   "source": [
    "target_tokens = [t[1:-1] for t in res]\n",
    "[len(t) for t in target_tokens]"
   ]
  },
  {
   "cell_type": "code",
   "execution_count": 8,
   "id": "f04264fa-c53d-4758-be54-08521dfbbf78",
   "metadata": {},
   "outputs": [
    {
     "data": {
      "text/plain": [
       "(24, 768)"
      ]
     },
     "execution_count": 8,
     "metadata": {},
     "output_type": "execute_result"
    }
   ],
   "source": [
    "import numpy as np\n",
    "\n",
    "all_tokens = np.vstack(target_tokens)\n",
    "all_tokens.shape"
   ]
  },
  {
   "cell_type": "code",
   "execution_count": 9,
   "id": "c78bb23a-ed9f-4328-ab02-d93917024ed1",
   "metadata": {},
   "outputs": [],
   "source": [
    "from sklearn.decomposition import PCA\n",
    "\n",
    "pca_fitted_1 = PCA(n_components=1).fit(np.vstack(target_tokens[1:3]))\n",
    "assert len(target_tokens[1:3]) == 2\n",
    "pca_fitted_2 = PCA(n_components=2).fit(np.vstack(target_tokens[3:5]))\n",
    "assert len(target_tokens[3:5]) == 2\n",
    "pca1 = pca_fitted_1.transform(np.vstack(target_tokens[0]))[:,0]\n",
    "pca2 = pca_fitted_2.transform(np.vstack(target_tokens[0]))[:,0]"
   ]
  },
  {
   "cell_type": "code",
   "execution_count": 10,
   "id": "55ceb670-3e1b-4a46-8269-321bc6a47e3e",
   "metadata": {},
   "outputs": [
    {
     "data": {
      "text/plain": [
       "array([ 0.19694915,  0.28089315,  0.07806115,  0.11509048,  0.12921941,\n",
       "        0.19119385,  0.20815909,  0.21848887,  0.15366462,  0.02995452,\n",
       "        0.07235219, -0.06333818,  0.04458839,  0.05603072,  0.1559623 ,\n",
       "        0.10876809,  0.05917332, -0.02472785,  0.18705153,  0.07063878],\n",
       "      dtype=float32)"
      ]
     },
     "execution_count": 10,
     "metadata": {},
     "output_type": "execute_result"
    }
   ],
   "source": [
    "pca1"
   ]
  },
  {
   "cell_type": "code",
   "execution_count": 11,
   "id": "1362e31c-2045-448f-92b4-44a6d72c8cf9",
   "metadata": {},
   "outputs": [
    {
     "data": {
      "image/png": "[encoded data removed]",
      "text/plain": [
       "<Figure size 640x480 with 1 Axes>"
      ]
     },
     "metadata": {},
     "output_type": "display_data"
    }
   ],
   "source": [
    "import matplotlib.pyplot as plt\n",
    "import seaborn as sns\n",
    "\n",
    "plt.rc('font', size=14)\n",
    "\n",
    "# pca1 = pca[:, 0]\n",
    "# pca2 = pca[:, 1]\n",
    "\n",
    "ax = sns.scatterplot(x=pca1, y=pca2, s=100)\n",
    "# ax = plt.scatter(x=pca1, y=pca2)\n",
    "plt.axis('off')\n",
    "plt.axhline(y=0, color='k')\n",
    "plt.text(min(pca1.min()+0.04,-0.1),0.01,dimension_list[1], color=\"red\", size=17)\n",
    "plt.text(max(pca1.max()-0.04, 0.1),0.01,dimension_list[0], color=\"green\", size=17)\n",
    "plt.axvline(x=0, color='k')\n",
    "plt.text(0.01,min(pca2.min()+0.01,-0.1),dimension_list[3], color=\"red\", size=17)\n",
    "plt.text(0.01,max(pca2.max()-0.01,0.1),dimension_list[2], color=\"green\", size=17)\n",
    "for i, txt in enumerate(token_words):\n",
    "    ax.annotate(txt, (pca1[i] + 0.003, pca2[i] + 0.003))"
   ]
  },
  {
   "cell_type": "code",
   "execution_count": null,
   "id": "0a6d5beb-b3a9-43bc-baca-c72f4189daa2",
   "metadata": {},
   "outputs": [],
   "source": []
  }
 ],
 "metadata": {
  "kernelspec": {
   "display_name": "Python 3 (ipykernel)",
   "language": "python",
   "name": "python3"
  },
  "language_info": {
   "codemirror_mode": {
    "name": "ipython",
    "version": 3
   },
   "file_extension": ".py",
   "mimetype": "text/x-python",
   "name": "python",
   "nbconvert_exporter": "python",
   "pygments_lexer": "ipython3",
   "version": "3.9.16"
  }
 },
 "nbformat": 4,
 "nbformat_minor": 5
}
