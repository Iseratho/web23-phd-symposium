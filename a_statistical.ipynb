{
 "cells": [
  {
   "cell_type": "code",
   "execution_count": 1,
   "id": "f4573ed1-6c8f-41df-ad0f-1f742c73098c",
   "metadata": {},
   "outputs": [],
   "source": [
    "from transformers import pipeline\n",
    "classifier = pipeline(\"zero-shot-classification\",\n",
    "                      model=\"facebook/bart-large-mnli\")"
   ]
  },
  {
   "cell_type": "code",
   "execution_count": 2,
   "id": "18c3835c-370b-4a28-87c0-f1c68bd99db5",
   "metadata": {},
   "outputs": [
    {
     "data": {
      "text/plain": [
       "{'sequence': 'In 2021, doctors prevented the spread of the virus by vaccinating with Pfizer.',\n",
       " 'labels': ['Security and defense: threats to welfare of the individual, community, or nation',\n",
       "  'Capacity and resources: availability of physical, human or financial resources, and capacity of current systems',\n",
       "  'Health and safety: health care, sanitation, public safety',\n",
       "  'Economic: costs, benefits, or other financial implications',\n",
       "  'Policy prescription and evaluation: discussion of specific policies aimed at addressing problems',\n",
       "  'Quality of life: threats and opportunities for the individual’s wealth, happiness, and well-being',\n",
       "  'Political: considerations related to politics and politicians, including lobbying, elections, and attempts to sway voters',\n",
       "  'Public opinion: attitudes and opinions of the general public, including polling and demographics',\n",
       "  'Fairness and equality: balance or distribution of rights, responsibilities, and resources',\n",
       "  'Crime and punishment: effectiveness and implications of laws and their enforcement',\n",
       "  'Other: any coherent group of frames not covered by the above categories',\n",
       "  'Morality: religious or ethical implications',\n",
       "  'Cultural identity: traditions, customs, or values of a social group in relation to a policy issue',\n",
       "  'External regulation and reputation: international reputation or foreign policy of the U.S.',\n",
       "  'Legality, constitutionality and jurisprudence: rights, freedoms, and authority of individuals, corporations, and government'],\n",
       " 'scores': [0.9164594411849976,\n",
       "  0.8543342351913452,\n",
       "  0.8374820351600647,\n",
       "  0.750651478767395,\n",
       "  0.38523077964782715,\n",
       "  0.37091076374053955,\n",
       "  0.2827182710170746,\n",
       "  0.24394731223583221,\n",
       "  0.2299410104751587,\n",
       "  0.19217000901699066,\n",
       "  0.16099287569522858,\n",
       "  0.1413915604352951,\n",
       "  0.08417202532291412,\n",
       "  0.05651986971497536,\n",
       "  0.02103303000330925]}"
      ]
     },
     "execution_count": 2,
     "metadata": {},
     "output_type": "execute_result"
    }
   ],
   "source": [
    "sequence_to_classify = \"In 2021, doctors prevented the spread of the virus by vaccinating with Pfizer.\"\n",
    "\n",
    "# https://homes.cs.washington.edu/~nasmith/papers/card+boydstun+gross+resnik+smith.acl15.pdf\n",
    "candidate_labels = [\n",
    "    \"Economic: costs, benefits, or other financial implications\",\n",
    "    \"Capacity and resources: availability of physical, human or financial resources, and capacity of current systems\",\n",
    "    \"Morality: religious or ethical implications\",\n",
    "    \"Fairness and equality: balance or distribution of rights, responsibilities, and resources\",\n",
    "    \"Legality, constitutionality and jurisprudence: rights, freedoms, and authority of individuals, corporations, and government\",\n",
    "    \"Policy prescription and evaluation: discussion of specific policies aimed at addressing problems\",\n",
    "    \"Crime and punishment: effectiveness and implications of laws and their enforcement\",\n",
    "    \"Security and defense: threats to welfare of the individual, community, or nation\",\n",
    "    \"Health and safety: health care, sanitation, public safety\",\n",
    "    \"Quality of life: threats and opportunities for the individual’s wealth, happiness, and well-being\",\n",
    "    \"Cultural identity: traditions, customs, or values of a social group in relation to a policy issue\",\n",
    "    \"Public opinion: attitudes and opinions of the general public, including polling and demographics\",\n",
    "    \"Political: considerations related to politics and politicians, including lobbying, elections, and attempts to sway voters\",\n",
    "    \"External regulation and reputation: international reputation or foreign policy of the U.S.\",\n",
    "    \"Other: any coherent group of frames not covered by the above categories\",\n",
    "]\n",
    "res = classifier(sequence_to_classify, candidate_labels, multi_label=True)\n",
    "res"
   ]
  },
  {
   "cell_type": "code",
   "execution_count": 3,
   "id": "81839ea4-c232-4c59-8b61-d9a121895ca7",
   "metadata": {},
   "outputs": [
    {
     "data": {
      "text/plain": [
       "[0.750651478767395,\n",
       " 0.8543342351913452,\n",
       " 0.1413915604352951,\n",
       " 0.2299410104751587,\n",
       " 0.02103303000330925,\n",
       " 0.38523077964782715,\n",
       " 0.19217000901699066,\n",
       " 0.9164594411849976,\n",
       " 0.8374820351600647,\n",
       " 0.37091076374053955,\n",
       " 0.08417202532291412,\n",
       " 0.24394731223583221,\n",
       " 0.2827182710170746,\n",
       " 0.05651986971497536,\n",
       " 0.16099287569522858]"
      ]
     },
     "execution_count": 3,
     "metadata": {},
     "output_type": "execute_result"
    }
   ],
   "source": [
    "import numpy as np\n",
    "indices_order = [res[\"labels\"].index(l) for l in candidate_labels]\n",
    "indices_order\n",
    "scores_ordered = np.array(res[\"scores\"])[indices_order].tolist()\n",
    "scores_ordered"
   ]
  },
  {
   "cell_type": "code",
   "execution_count": 4,
   "id": "8b76de6a-bb22-4002-80e5-7c5a6a8e0fff",
   "metadata": {},
   "outputs": [
    {
     "data": {
      "text/plain": [
       "['Economic',\n",
       " 'Capacity',\n",
       " 'Morality',\n",
       " 'Fairness',\n",
       " 'Legality,',\n",
       " 'Policy',\n",
       " 'Crime',\n",
       " 'Security',\n",
       " 'Health',\n",
       " 'Quality',\n",
       " 'Cultural',\n",
       " 'Public',\n",
       " 'Political',\n",
       " 'External',\n",
       " 'Other']"
      ]
     },
     "execution_count": 4,
     "metadata": {},
     "output_type": "execute_result"
    }
   ],
   "source": [
    "label_names = [l.split(\":\")[0].split(\" \")[0] for l in candidate_labels]\n",
    "label_names"
   ]
  },
  {
   "cell_type": "code",
   "execution_count": 5,
   "id": "8e9d0b56-8e6f-473e-885a-884b58d68059",
   "metadata": {},
   "outputs": [
    {
     "data": {
      "text/plain": [
       "<BarContainer object of 15 artists>"
      ]
     },
     "execution_count": 5,
     "metadata": {},
     "output_type": "execute_result"
    },
    {
     "data": {
      "image/png": "[encoded data removed]",
      "text/plain": [
       "<Figure size 640x480 with 1 Axes>"
      ]
     },
     "metadata": {},
     "output_type": "display_data"
    }
   ],
   "source": [
    "import matplotlib.pyplot as plt\n",
    "import seaborn as sns\n",
    "\n",
    "cp = sns.color_palette()\n",
    "\n",
    "colors = [cp[0] if s > 0.5 else cp[1] for s in scores_ordered]\n",
    "plt.barh(label_names[::-1], scores_ordered[::-1], color=colors[::-1])"
   ]
  },
  {
   "cell_type": "code",
   "execution_count": null,
   "id": "7c5217d5-1dfb-405c-b95e-694a808a1ac4",
   "metadata": {},
   "outputs": [],
   "source": []
  }
 ],
 "metadata": {
  "kernelspec": {
   "display_name": "Python 3 (ipykernel)",
   "language": "python",
   "name": "python3"
  },
  "language_info": {
   "codemirror_mode": {
    "name": "ipython",
    "version": 3
   },
   "file_extension": ".py",
   "mimetype": "text/x-python",
   "name": "python",
   "nbconvert_exporter": "python",
   "pygments_lexer": "ipython3",
   "version": "3.9.16"
  }
 },
 "nbformat": 4,
 "nbformat_minor": 5
}
